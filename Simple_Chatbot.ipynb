{
  "nbformat": 4,
  "nbformat_minor": 0,
  "metadata": {
    "colab": {
      "provenance": []
    },
    "kernelspec": {
      "name": "python3",
      "display_name": "Python 3"
    },
    "language_info": {
      "name": "python"
    }
  },
  "cells": [
    {
      "cell_type": "code",
      "execution_count": null,
      "metadata": {
        "id": "H7b1t_bieLM1"
      },
      "outputs": [],
      "source": [
        "import nltk\n",
        "from nltk.chat.util import Chat, reflections\n",
        "from datetime import datetime\n",
        "\n",
        "# Define medical intents and responses\n",
        "pairs = [\n",
        "    (r\"hi|hello|hey\", [\"Hello! How can I assist you with your health today?\", \"Hi there! How can I help you?\"]),\n",
        "    (r\"how are you?\", [\"I'm a chatbot, but thanks for asking! How are you doing?\", \"I'm doing great, how about you?\"]),\n",
        "    (r\"what is your name?\", [\"I am a health assistant bot named Sam.\"]),\n",
        "    (r\"quit|bye\", [\"Goodbye! Stay healthy.\", \"Take care and feel better soon.\"]),\n",
        "    (r\"tell me a joke\", [\"Why don't doctors trust stairs? They're always up to something!\"]),\n",
        "    (r\"what are the symptoms of a cold?\", [\"Common symptoms include a runny nose, sore throat, cough, and sneezing.\"]),\n",
        "    (r\"what should I do if I have a fever?\", [\"Rest, drink fluids, and monitor your temperature. If it persists, consult a doctor.\"]),\n",
        "    (r\"how can I stay healthy?\", [\"Eat a balanced diet, exercise regularly, and get enough sleep.\"]),\n",
        "    (r\"what time is it|tell me the time\", [lambda: f\"The current time is {datetime.now().strftime('%H:%M:%S')}.\"]),\n",
        "    (r\"(.*)\", [\"Sorry, I didn't understand that. Please try again.\"])\n",
        "]\n",
        "\n",
        "# Create the chatbot using pairs and reflections\n",
        "def chatbot():\n",
        "    print(\"Hi! I'm a medical chatbot. Type 'quit' to exit.\")\n",
        "\n",
        "    # Initialize the Chat class with the pairs and reflections\n",
        "    chat = Chat(pairs, reflections)\n",
        "\n",
        "    while True:\n",
        "        user_input = input(\"You: \")\n",
        "        if user_input.lower() == 'quit':  # Check if the user wants to exit\n",
        "            print(\"Chatbot: Goodbye!\")\n",
        "            break\n",
        "        else:\n",
        "            response = chat.respond(user_input)  # Get the chatbot's response\n",
        "            print(f\"Chatbot: {response}\")\n",
        "\n",
        "# Run the chatbot\n",
        "chatbot()"
      ]
    }
  ]
}